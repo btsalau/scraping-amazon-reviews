{
 "cells": [
  {
   "cell_type": "code",
   "execution_count": 1,
   "metadata": {},
   "outputs": [],
   "source": [
    "from selenium import webdriver\n",
    "from selenium.webdriver.common.by import By\n",
    "import time\n",
    "from bs4 import BeautifulSoup\n",
    "import os\n",
    "import pandas as pd\n",
    "# from transformers import pipeline"
   ]
  },
  {
   "cell_type": "code",
   "execution_count": 2,
   "metadata": {},
   "outputs": [],
   "source": [
    "url = 'https://www.amazon.co.uk/product-reviews/B07W4CK8KR/ref=cm_cr_getr_d_paging_btm_next_2?ie=UTF8&reviewerType=all_reviews&sortBy=recent&pageNumber=1'"
   ]
  },
  {
   "cell_type": "code",
   "execution_count": 3,
   "metadata": {},
   "outputs": [],
   "source": [
    "driver = webdriver.Chrome()\n",
    "driver.get(url)"
   ]
  },
  {
   "cell_type": "code",
   "execution_count": 4,
   "metadata": {},
   "outputs": [],
   "source": [
    "reject = driver.find_element(By.CLASS_NAME, 'a-link-emphasis')\n",
    "reject.click()"
   ]
  },
  {
   "cell_type": "code",
   "execution_count": 5,
   "metadata": {},
   "outputs": [],
   "source": [
    "with open('amazon-review-pages\\\\1.html', mode='w', encoding=\"utf-8\") as f:\n",
    "    f.write(driver.page_source)"
   ]
  },
  {
   "cell_type": "code",
   "execution_count": 6,
   "metadata": {},
   "outputs": [
    {
     "name": "stdout",
     "output_type": "stream",
     "text": [
      "1. completed\n",
      "2. completed\n",
      "3. completed\n",
      "4. completed\n",
      "5. completed\n",
      "6. completed\n",
      "7. completed\n",
      "8. completed\n",
      "9. completed\n",
      "10. completed\n",
      "11. completed\n",
      "12. completed\n",
      "13. completed\n",
      "14. completed\n",
      "15. completed\n",
      "16. completed\n",
      "17. completed\n",
      "18. completed\n",
      "19. completed\n",
      "20. completed\n",
      "21. completed\n",
      "22. completed\n",
      "23. completed\n",
      "24. completed\n",
      "25. completed\n",
      "26. completed\n",
      "27. completed\n",
      "28. completed\n",
      "29. completed\n",
      "30. completed\n",
      "31. completed\n",
      "32. completed\n",
      "33. completed\n",
      "34. completed\n",
      "35. completed\n",
      "36. completed\n",
      "37. completed\n",
      "38. completed\n",
      "39. completed\n",
      "40. completed\n",
      "41. completed\n",
      "42. completed\n",
      "43. completed\n",
      "44. completed\n",
      "45. completed\n",
      "46. completed\n",
      "47. completed\n",
      "48. completed\n",
      "49. completed\n",
      "50. completed\n"
     ]
    }
   ],
   "source": [
    "# in future, to code the number of pages, we'll use while True and a break\n",
    "for i in range(1, 51):\n",
    "    time.sleep(10)\n",
    "\n",
    "    test_url = f'https://www.amazon.co.uk/product-reviews/B07W4CK8KR/ref=cm_cr_getr_d_paging_btm_next_2?ie=UTF8&reviewerType=all_reviews&sortBy=recent&pageNumber={str(i)}'\n",
    "\n",
    "    driver = webdriver.Chrome()\n",
    "    driver.get(test_url)\n",
    "\n",
    "    time.sleep(10)\n",
    "\n",
    "    try:\n",
    "        reject = driver.find_element(By.CLASS_NAME, 'a-link-emphasis')\n",
    "        reject.click()\n",
    "    except:\n",
    "        continue\n",
    "\n",
    "    time.sleep(10)\n",
    "\n",
    "    with open(f'amazon-review-pages\\\\{i}.html', mode='w', encoding=\"utf-8\") as f:\n",
    "        f.write(driver.page_source)\n",
    "    \n",
    "    print(f'{i}. completed')"
   ]
  },
  {
   "cell_type": "code",
   "execution_count": 7,
   "metadata": {},
   "outputs": [],
   "source": [
    "with open(f'amazon-review-pages\\\\1.html', mode='r', encoding=\"utf-8\") as f:\n",
    "    webpage = f.read()\n",
    "\n",
    "soup = BeautifulSoup(webpage, 'html5lib')"
   ]
  },
  {
   "cell_type": "code",
   "execution_count": 8,
   "metadata": {},
   "outputs": [
    {
     "data": {
      "text/plain": [
       "10"
      ]
     },
     "execution_count": 8,
     "metadata": {},
     "output_type": "execute_result"
    }
   ],
   "source": [
    "len(soup.find_all(class_ ='a-size-base review-text review-text-content')) # review text"
   ]
  },
  {
   "cell_type": "code",
   "execution_count": 9,
   "metadata": {},
   "outputs": [
    {
     "ename": "TypeError",
     "evalue": "'int' object is not subscriptable",
     "output_type": "error",
     "traceback": [
      "\u001b[1;31m---------------------------------------------------------------------------\u001b[0m",
      "\u001b[1;31mTypeError\u001b[0m                                 Traceback (most recent call last)",
      "Cell \u001b[1;32mIn [9], line 1\u001b[0m\n\u001b[1;32m----> 1\u001b[0m \u001b[38;5;28;43mlen\u001b[39;49m\u001b[43m(\u001b[49m\u001b[43msoup\u001b[49m\u001b[38;5;241;43m.\u001b[39;49m\u001b[43mfind_all\u001b[49m\u001b[43m(\u001b[49m\u001b[43mclass_\u001b[49m\u001b[43m \u001b[49m\u001b[38;5;241;43m=\u001b[39;49m\u001b[38;5;124;43m'\u001b[39;49m\u001b[38;5;124;43ma-profile-name\u001b[39;49m\u001b[38;5;124;43m'\u001b[39;49m\u001b[43m)\u001b[49m\u001b[43m)\u001b[49m\u001b[43m[\u001b[49m\u001b[38;5;241;43m2\u001b[39;49m\u001b[43m:\u001b[49m\u001b[43m]\u001b[49m\n",
      "\u001b[1;31mTypeError\u001b[0m: 'int' object is not subscriptable"
     ]
    }
   ],
   "source": [
    "len(soup.find_all(class_ ='a-profile-name')[2:]) # reviewer name"
   ]
  },
  {
   "cell_type": "code",
   "execution_count": 10,
   "metadata": {},
   "outputs": [
    {
     "data": {
      "text/plain": [
       "10"
      ]
     },
     "execution_count": 10,
     "metadata": {},
     "output_type": "execute_result"
    }
   ],
   "source": [
    "len(soup.find_all(class_ ='a-size-base a-link-normal review-title a-color-base review-title-content a-text-bold')) # review title"
   ]
  },
  {
   "cell_type": "code",
   "execution_count": 11,
   "metadata": {},
   "outputs": [
    {
     "ename": "TypeError",
     "evalue": "'int' object is not subscriptable",
     "output_type": "error",
     "traceback": [
      "\u001b[1;31m---------------------------------------------------------------------------\u001b[0m",
      "\u001b[1;31mTypeError\u001b[0m                                 Traceback (most recent call last)",
      "Cell \u001b[1;32mIn [11], line 1\u001b[0m\n\u001b[1;32m----> 1\u001b[0m \u001b[38;5;28;43mlen\u001b[39;49m\u001b[43m(\u001b[49m\u001b[43msoup\u001b[49m\u001b[38;5;241;43m.\u001b[39;49m\u001b[43mfind_all\u001b[49m\u001b[43m(\u001b[49m\u001b[43mclass_\u001b[49m\u001b[43m \u001b[49m\u001b[38;5;241;43m=\u001b[39;49m\u001b[43m \u001b[49m\u001b[38;5;124;43m'\u001b[39;49m\u001b[38;5;124;43ma-size-base a-color-secondary review-date\u001b[39;49m\u001b[38;5;124;43m'\u001b[39;49m\u001b[43m)\u001b[49m\u001b[43m)\u001b[49m\u001b[43m[\u001b[49m\u001b[38;5;241;43m2\u001b[39;49m\u001b[43m:\u001b[49m\u001b[43m]\u001b[49m\n",
      "\u001b[1;31mTypeError\u001b[0m: 'int' object is not subscriptable"
     ]
    }
   ],
   "source": [
    "len(soup.find_all(class_ = 'a-size-base a-color-secondary review-date')[2:]) # date. split 6 to end"
   ]
  },
  {
   "cell_type": "code",
   "execution_count": 12,
   "metadata": {},
   "outputs": [
    {
     "data": {
      "text/plain": [
       "10"
      ]
     },
     "execution_count": 12,
     "metadata": {},
     "output_type": "execute_result"
    }
   ],
   "source": [
    "len(soup.find_all(attrs={'data-hook':'review-star-rating'})) # review star ratings"
   ]
  },
  {
   "cell_type": "code",
   "execution_count": 13,
   "metadata": {},
   "outputs": [
    {
     "name": "stdout",
     "output_type": "stream",
     "text": [
      "10 10 10 10 10\n"
     ]
    }
   ],
   "source": [
    "review_text_list = soup.find_all(class_ ='a-size-base review-text review-text-content') # review text\n",
    "reviewer_name_list = soup.find_all(class_ ='a-profile-name')[2:] # reviewer name\n",
    "review_title_list = soup.find_all(class_ ='a-size-base a-link-normal review-title a-color-base review-title-content a-text-bold') # review title\n",
    "review_date_list = soup.find_all(class_ = 'a-size-base a-color-secondary review-date')[2:] # date. split 6 to end\n",
    "review_star_list = soup.find_all(attrs={'data-hook':'review-star-rating'}) # review star ratings\n",
    "print(len(review_text_list), len(reviewer_name_list), len(review_date_list), len(review_title_list), len(review_star_list))"
   ]
  },
  {
   "cell_type": "code",
   "execution_count": 15,
   "metadata": {},
   "outputs": [
    {
     "name": "stdout",
     "output_type": "stream",
     "text": [
      "Poorly packaged, dirty and well used. Advertised as new but no box or nothing Michael Girvan Dirty & Used September 2022 1.0 out of 5 stars\n",
      "This Nintendo Switch really makes me so happy and keeps me occupied during the quiet moments at work (remote working of course). The eshop is always full of offers and games on sale, really great games too! The variety of choices you get is enough to really make anyone happy. The only thing I wish I had done differently is getting the joycons in grey, just so they would fit any case a bit better. sasybi Best purchase I've ever made! makes me so happy September 2022 5.0 out of 5 stars\n",
      "It was well preserved like new! Carlos It’s so good! September 2022 5.0 out of 5 stars\n",
      "Amazing. Lisa Amazing September 2022 5.0 out of 5 stars\n",
      "Love the versatility between handheld and TV console.  Great to use solo or with friends and family, battery life has never been an issue with 5 hours plus play! Matt Best that Nintendo have made! September 2022 5.0 out of 5 stars\n",
      "I like the Nintendo switch John Good September 2022 5.0 out of 5 stars\n",
      "I ordered this on Saturday evening. It said it would be delivered Monday.Come Sunday morning I was surprised to receive the nintendo switch.Well packaged, everything specified was included. Works perfectly.No issues whatsoever.One happy child of mine after the other nintendo broke.Thank you. Kindle Customer Speedy delivery September 2022 5.0 out of 5 stars\n",
      "It's good - but the titles selection are surprisingly limited, I got this as the wife wanted one for her birthday - but it is telling that as of this moment it spends more time gathering dust than ever being used. Mr. R. H. Adams Easy to set up September 2022 3.0 out of 5 stars\n",
      "It was bought as a gift and I am awaiting feedack Riseup-ttt Exactly what I ordered August 2022 4.0 out of 5 stars\n",
      "That he can go on line and buy a game straight away Tina Lomax Bought for hubby he's loves it August 2022 5.0 out of 5 stars\n"
     ]
    }
   ],
   "source": [
    "for i in range(0, 10):\n",
    "    review_text = review_text_list[i].text.strip()\n",
    "    reviewer_name = reviewer_name_list[i].text\n",
    "    review_title = review_title_list[i].text.strip()\n",
    "    review_date_content = review_date_list[i].text.split(\" \")[7:]\n",
    "    review_date = \" \".join(review_date_content)\n",
    "    review_star_ratings = review_star_list[i].text\n",
    "\n",
    "    print(review_text, reviewer_name, review_title, review_date, review_star_ratings)"
   ]
  },
  {
   "cell_type": "code",
   "execution_count": 16,
   "metadata": {},
   "outputs": [],
   "source": [
    "def amazon_parser(html):\n",
    "    with open(f'amazon-review-pages\\\\{html}', mode='r', encoding=\"utf-8\") as f:\n",
    "        webpage = f.read()\n",
    "\n",
    "    soup = BeautifulSoup(webpage, 'html5lib')\n",
    "\n",
    "    review_text_list = soup.find_all(class_ ='a-size-base review-text review-text-content') # review text\n",
    "    reviewer_name_list = soup.find_all(class_ ='a-profile-name')[2:] # reviewer name\n",
    "    review_title_list = soup.find_all(class_ ='a-size-base a-link-normal review-title a-color-base review-title-content a-text-bold') # review title\n",
    "    review_date_list = soup.find_all(class_ = 'a-size-base a-color-secondary review-date')[2:] # date. split 6 to end\n",
    "    review_star_list = soup.find_all(attrs={'data-hook':'review-star-rating'}) # review star ratings\n",
    "\n",
    "    page_output = list()\n",
    "\n",
    "    for i in range(0, 10):\n",
    "        review_text = review_text_list[i].text.strip()\n",
    "        reviewer_name = reviewer_name_list[i].text\n",
    "        review_title = review_title_list[i].text.strip()\n",
    "        review_date_content = review_date_list[i].text.split(\" \")[7:]\n",
    "        review_date = \" \".join(review_date_content)\n",
    "        review_star_ratings = review_star_list[i].text\n",
    "\n",
    "        review = {\n",
    "            'review_text': review_text,\n",
    "            'reviewer_name': reviewer_name,\n",
    "            'review_title': review_title,\n",
    "            'review_date': review_date,\n",
    "            'review_star_ratings': review_star_ratings,\n",
    "        }\n",
    "\n",
    "        page_output.append(review)\n",
    "    \n",
    "\n",
    "    return page_output"
   ]
  },
  {
   "cell_type": "code",
   "execution_count": 17,
   "metadata": {},
   "outputs": [],
   "source": [
    "folder = os.listdir('amazon-review-pages')"
   ]
  },
  {
   "cell_type": "code",
   "execution_count": 18,
   "metadata": {},
   "outputs": [],
   "source": [
    "final_output = list()\n",
    "for file in folder:\n",
    "    final_output += amazon_parser(file)"
   ]
  },
  {
   "cell_type": "code",
   "execution_count": 19,
   "metadata": {},
   "outputs": [
    {
     "data": {
      "text/html": [
       "<div>\n",
       "<style scoped>\n",
       "    .dataframe tbody tr th:only-of-type {\n",
       "        vertical-align: middle;\n",
       "    }\n",
       "\n",
       "    .dataframe tbody tr th {\n",
       "        vertical-align: top;\n",
       "    }\n",
       "\n",
       "    .dataframe thead th {\n",
       "        text-align: right;\n",
       "    }\n",
       "</style>\n",
       "<table border=\"1\" class=\"dataframe\">\n",
       "  <thead>\n",
       "    <tr style=\"text-align: right;\">\n",
       "      <th></th>\n",
       "      <th>review_text</th>\n",
       "      <th>reviewer_name</th>\n",
       "      <th>review_title</th>\n",
       "      <th>review_date</th>\n",
       "      <th>review_star_ratings</th>\n",
       "    </tr>\n",
       "  </thead>\n",
       "  <tbody>\n",
       "    <tr>\n",
       "      <th>0</th>\n",
       "      <td>Poorly packaged, dirty and well used. Advertis...</td>\n",
       "      <td>Michael Girvan</td>\n",
       "      <td>Dirty &amp; Used</td>\n",
       "      <td>September 2022</td>\n",
       "      <td>1.0 out of 5 stars</td>\n",
       "    </tr>\n",
       "    <tr>\n",
       "      <th>1</th>\n",
       "      <td>This Nintendo Switch really makes me so happy ...</td>\n",
       "      <td>sasybi</td>\n",
       "      <td>Best purchase I've ever made! makes me so happy</td>\n",
       "      <td>September 2022</td>\n",
       "      <td>5.0 out of 5 stars</td>\n",
       "    </tr>\n",
       "    <tr>\n",
       "      <th>2</th>\n",
       "      <td>It was well preserved like new!</td>\n",
       "      <td>Carlos</td>\n",
       "      <td>It’s so good!</td>\n",
       "      <td>September 2022</td>\n",
       "      <td>5.0 out of 5 stars</td>\n",
       "    </tr>\n",
       "    <tr>\n",
       "      <th>3</th>\n",
       "      <td>Amazing.</td>\n",
       "      <td>Lisa</td>\n",
       "      <td>Amazing</td>\n",
       "      <td>September 2022</td>\n",
       "      <td>5.0 out of 5 stars</td>\n",
       "    </tr>\n",
       "    <tr>\n",
       "      <th>4</th>\n",
       "      <td>Love the versatility between handheld and TV c...</td>\n",
       "      <td>Matt</td>\n",
       "      <td>Best that Nintendo have made!</td>\n",
       "      <td>September 2022</td>\n",
       "      <td>5.0 out of 5 stars</td>\n",
       "    </tr>\n",
       "    <tr>\n",
       "      <th>...</th>\n",
       "      <td>...</td>\n",
       "      <td>...</td>\n",
       "      <td>...</td>\n",
       "      <td>...</td>\n",
       "      <td>...</td>\n",
       "    </tr>\n",
       "    <tr>\n",
       "      <th>495</th>\n",
       "      <td>The children received it as a Christmas presen...</td>\n",
       "      <td>Tin</td>\n",
       "      <td>Great for children and adults</td>\n",
       "      <td>9 January 2022</td>\n",
       "      <td>5.0 out of 5 stars</td>\n",
       "    </tr>\n",
       "    <tr>\n",
       "      <th>496</th>\n",
       "      <td>He loved</td>\n",
       "      <td>Mark Edwards</td>\n",
       "      <td>5</td>\n",
       "      <td>6 January 2022</td>\n",
       "      <td>5.0 out of 5 stars</td>\n",
       "    </tr>\n",
       "    <tr>\n",
       "      <th>497</th>\n",
       "      <td>Not too bulky and a good selection of games</td>\n",
       "      <td>Alice</td>\n",
       "      <td>A great console</td>\n",
       "      <td>3 January 2022</td>\n",
       "      <td>5.0 out of 5 stars</td>\n",
       "    </tr>\n",
       "    <tr>\n",
       "      <th>498</th>\n",
       "      <td>Broke within two months.  The seller couldn’t ...</td>\n",
       "      <td>scratch</td>\n",
       "      <td>Faulty and unhelpful seller</td>\n",
       "      <td>30 December 2021</td>\n",
       "      <td>1.0 out of 5 stars</td>\n",
       "    </tr>\n",
       "    <tr>\n",
       "      <th>499</th>\n",
       "      <td>Bought this Nintendo switch for my 4 year old ...</td>\n",
       "      <td>Amazon Customer</td>\n",
       "      <td>Best computer i have purchased</td>\n",
       "      <td>30 December 2021</td>\n",
       "      <td>5.0 out of 5 stars</td>\n",
       "    </tr>\n",
       "  </tbody>\n",
       "</table>\n",
       "<p>500 rows × 5 columns</p>\n",
       "</div>"
      ],
      "text/plain": [
       "                                           review_text    reviewer_name  \\\n",
       "0    Poorly packaged, dirty and well used. Advertis...   Michael Girvan   \n",
       "1    This Nintendo Switch really makes me so happy ...           sasybi   \n",
       "2                      It was well preserved like new!           Carlos   \n",
       "3                                             Amazing.             Lisa   \n",
       "4    Love the versatility between handheld and TV c...             Matt   \n",
       "..                                                 ...              ...   \n",
       "495  The children received it as a Christmas presen...              Tin   \n",
       "496                                           He loved     Mark Edwards   \n",
       "497        Not too bulky and a good selection of games            Alice   \n",
       "498  Broke within two months.  The seller couldn’t ...          scratch   \n",
       "499  Bought this Nintendo switch for my 4 year old ...  Amazon Customer   \n",
       "\n",
       "                                        review_title       review_date  \\\n",
       "0                                       Dirty & Used    September 2022   \n",
       "1    Best purchase I've ever made! makes me so happy    September 2022   \n",
       "2                                      It’s so good!    September 2022   \n",
       "3                                            Amazing    September 2022   \n",
       "4                      Best that Nintendo have made!    September 2022   \n",
       "..                                               ...               ...   \n",
       "495                    Great for children and adults    9 January 2022   \n",
       "496                                                5    6 January 2022   \n",
       "497                                  A great console    3 January 2022   \n",
       "498                      Faulty and unhelpful seller  30 December 2021   \n",
       "499                   Best computer i have purchased  30 December 2021   \n",
       "\n",
       "    review_star_ratings  \n",
       "0    1.0 out of 5 stars  \n",
       "1    5.0 out of 5 stars  \n",
       "2    5.0 out of 5 stars  \n",
       "3    5.0 out of 5 stars  \n",
       "4    5.0 out of 5 stars  \n",
       "..                  ...  \n",
       "495  5.0 out of 5 stars  \n",
       "496  5.0 out of 5 stars  \n",
       "497  5.0 out of 5 stars  \n",
       "498  1.0 out of 5 stars  \n",
       "499  5.0 out of 5 stars  \n",
       "\n",
       "[500 rows x 5 columns]"
      ]
     },
     "execution_count": 19,
     "metadata": {},
     "output_type": "execute_result"
    }
   ],
   "source": [
    "df = pd.DataFrame(final_output)\n",
    "df"
   ]
  },
  {
   "cell_type": "code",
   "execution_count": 20,
   "metadata": {},
   "outputs": [
    {
     "data": {
      "text/plain": [
       "array(['1.0 out of 5 stars', '5.0 out of 5 stars', '3.0 out of 5 stars',\n",
       "       '4.0 out of 5 stars', '2.0 out of 5 stars'], dtype=object)"
      ]
     },
     "execution_count": 20,
     "metadata": {},
     "output_type": "execute_result"
    }
   ],
   "source": [
    "df['review_star_ratings'].unique()"
   ]
  },
  {
   "cell_type": "code",
   "execution_count": 21,
   "metadata": {},
   "outputs": [],
   "source": [
    "df.to_csv('amazon-reviews-output.csv', index=False)"
   ]
  },
  {
   "cell_type": "code",
   "execution_count": 5,
   "metadata": {},
   "outputs": [],
   "source": [
    "from transformers import pipeline\n",
    "import pandas as pd"
   ]
  },
  {
   "cell_type": "code",
   "execution_count": null,
   "metadata": {},
   "outputs": [],
   "source": [
    "sentiment_pipeline = pipeline(\"sentiment-analysis\")"
   ]
  },
  {
   "cell_type": "code",
   "execution_count": 4,
   "metadata": {},
   "outputs": [
    {
     "data": {
      "text/plain": [
       "[{'label': 'POSITIVE', 'score': 0.9998656511306763},\n",
       " {'label': 'NEGATIVE', 'score': 0.9991129040718079}]"
      ]
     },
     "execution_count": 4,
     "metadata": {},
     "output_type": "execute_result"
    }
   ],
   "source": [
    "data = [\"I love you\", \"I hate you\"]\n",
    "sentiment_pipeline(data)"
   ]
  },
  {
   "cell_type": "code",
   "execution_count": 6,
   "metadata": {},
   "outputs": [
    {
     "data": {
      "text/html": [
       "<div>\n",
       "<style scoped>\n",
       "    .dataframe tbody tr th:only-of-type {\n",
       "        vertical-align: middle;\n",
       "    }\n",
       "\n",
       "    .dataframe tbody tr th {\n",
       "        vertical-align: top;\n",
       "    }\n",
       "\n",
       "    .dataframe thead th {\n",
       "        text-align: right;\n",
       "    }\n",
       "</style>\n",
       "<table border=\"1\" class=\"dataframe\">\n",
       "  <thead>\n",
       "    <tr style=\"text-align: right;\">\n",
       "      <th></th>\n",
       "      <th>review_text</th>\n",
       "      <th>reviewer_name</th>\n",
       "      <th>review_title</th>\n",
       "      <th>review_date</th>\n",
       "      <th>review_star_ratings</th>\n",
       "    </tr>\n",
       "  </thead>\n",
       "  <tbody>\n",
       "    <tr>\n",
       "      <th>0</th>\n",
       "      <td>Poorly packaged, dirty and well used. Advertis...</td>\n",
       "      <td>Michael Girvan</td>\n",
       "      <td>Dirty &amp; Used</td>\n",
       "      <td>September 2022</td>\n",
       "      <td>1.0 out of 5 stars</td>\n",
       "    </tr>\n",
       "    <tr>\n",
       "      <th>1</th>\n",
       "      <td>This Nintendo Switch really makes me so happy ...</td>\n",
       "      <td>sasybi</td>\n",
       "      <td>Best purchase I've ever made! makes me so happy</td>\n",
       "      <td>September 2022</td>\n",
       "      <td>5.0 out of 5 stars</td>\n",
       "    </tr>\n",
       "    <tr>\n",
       "      <th>2</th>\n",
       "      <td>It was well preserved like new!</td>\n",
       "      <td>Carlos</td>\n",
       "      <td>It’s so good!</td>\n",
       "      <td>September 2022</td>\n",
       "      <td>5.0 out of 5 stars</td>\n",
       "    </tr>\n",
       "    <tr>\n",
       "      <th>3</th>\n",
       "      <td>Amazing.</td>\n",
       "      <td>Lisa</td>\n",
       "      <td>Amazing</td>\n",
       "      <td>September 2022</td>\n",
       "      <td>5.0 out of 5 stars</td>\n",
       "    </tr>\n",
       "    <tr>\n",
       "      <th>4</th>\n",
       "      <td>Love the versatility between handheld and TV c...</td>\n",
       "      <td>Matt</td>\n",
       "      <td>Best that Nintendo have made!</td>\n",
       "      <td>September 2022</td>\n",
       "      <td>5.0 out of 5 stars</td>\n",
       "    </tr>\n",
       "    <tr>\n",
       "      <th>...</th>\n",
       "      <td>...</td>\n",
       "      <td>...</td>\n",
       "      <td>...</td>\n",
       "      <td>...</td>\n",
       "      <td>...</td>\n",
       "    </tr>\n",
       "    <tr>\n",
       "      <th>495</th>\n",
       "      <td>The children received it as a Christmas presen...</td>\n",
       "      <td>Tin</td>\n",
       "      <td>Great for children and adults</td>\n",
       "      <td>9 January 2022</td>\n",
       "      <td>5.0 out of 5 stars</td>\n",
       "    </tr>\n",
       "    <tr>\n",
       "      <th>496</th>\n",
       "      <td>He loved</td>\n",
       "      <td>Mark Edwards</td>\n",
       "      <td>5</td>\n",
       "      <td>6 January 2022</td>\n",
       "      <td>5.0 out of 5 stars</td>\n",
       "    </tr>\n",
       "    <tr>\n",
       "      <th>497</th>\n",
       "      <td>Not too bulky and a good selection of games</td>\n",
       "      <td>Alice</td>\n",
       "      <td>A great console</td>\n",
       "      <td>3 January 2022</td>\n",
       "      <td>5.0 out of 5 stars</td>\n",
       "    </tr>\n",
       "    <tr>\n",
       "      <th>498</th>\n",
       "      <td>Broke within two months.  The seller couldn’t ...</td>\n",
       "      <td>scratch</td>\n",
       "      <td>Faulty and unhelpful seller</td>\n",
       "      <td>30 December 2021</td>\n",
       "      <td>1.0 out of 5 stars</td>\n",
       "    </tr>\n",
       "    <tr>\n",
       "      <th>499</th>\n",
       "      <td>Bought this Nintendo switch for my 4 year old ...</td>\n",
       "      <td>Amazon Customer</td>\n",
       "      <td>Best computer i have purchased</td>\n",
       "      <td>30 December 2021</td>\n",
       "      <td>5.0 out of 5 stars</td>\n",
       "    </tr>\n",
       "  </tbody>\n",
       "</table>\n",
       "<p>500 rows × 5 columns</p>\n",
       "</div>"
      ],
      "text/plain": [
       "                                           review_text    reviewer_name  \\\n",
       "0    Poorly packaged, dirty and well used. Advertis...   Michael Girvan   \n",
       "1    This Nintendo Switch really makes me so happy ...           sasybi   \n",
       "2                      It was well preserved like new!           Carlos   \n",
       "3                                             Amazing.             Lisa   \n",
       "4    Love the versatility between handheld and TV c...             Matt   \n",
       "..                                                 ...              ...   \n",
       "495  The children received it as a Christmas presen...              Tin   \n",
       "496                                           He loved     Mark Edwards   \n",
       "497        Not too bulky and a good selection of games            Alice   \n",
       "498  Broke within two months.  The seller couldn’t ...          scratch   \n",
       "499  Bought this Nintendo switch for my 4 year old ...  Amazon Customer   \n",
       "\n",
       "                                        review_title       review_date  \\\n",
       "0                                       Dirty & Used    September 2022   \n",
       "1    Best purchase I've ever made! makes me so happy    September 2022   \n",
       "2                                      It’s so good!    September 2022   \n",
       "3                                            Amazing    September 2022   \n",
       "4                      Best that Nintendo have made!    September 2022   \n",
       "..                                               ...               ...   \n",
       "495                    Great for children and adults    9 January 2022   \n",
       "496                                                5    6 January 2022   \n",
       "497                                  A great console    3 January 2022   \n",
       "498                      Faulty and unhelpful seller  30 December 2021   \n",
       "499                   Best computer i have purchased  30 December 2021   \n",
       "\n",
       "    review_star_ratings  \n",
       "0    1.0 out of 5 stars  \n",
       "1    5.0 out of 5 stars  \n",
       "2    5.0 out of 5 stars  \n",
       "3    5.0 out of 5 stars  \n",
       "4    5.0 out of 5 stars  \n",
       "..                  ...  \n",
       "495  5.0 out of 5 stars  \n",
       "496  5.0 out of 5 stars  \n",
       "497  5.0 out of 5 stars  \n",
       "498  1.0 out of 5 stars  \n",
       "499  5.0 out of 5 stars  \n",
       "\n",
       "[500 rows x 5 columns]"
      ]
     },
     "execution_count": 6,
     "metadata": {},
     "output_type": "execute_result"
    }
   ],
   "source": [
    "df = pd.read_csv('amazon-reviews-output.csv')\n",
    "df"
   ]
  },
  {
   "cell_type": "code",
   "execution_count": 10,
   "metadata": {},
   "outputs": [
    {
     "data": {
      "text/html": [
       "<div>\n",
       "<style scoped>\n",
       "    .dataframe tbody tr th:only-of-type {\n",
       "        vertical-align: middle;\n",
       "    }\n",
       "\n",
       "    .dataframe tbody tr th {\n",
       "        vertical-align: top;\n",
       "    }\n",
       "\n",
       "    .dataframe thead th {\n",
       "        text-align: right;\n",
       "    }\n",
       "</style>\n",
       "<table border=\"1\" class=\"dataframe\">\n",
       "  <thead>\n",
       "    <tr style=\"text-align: right;\">\n",
       "      <th></th>\n",
       "      <th>review_text</th>\n",
       "      <th>reviewer_name</th>\n",
       "      <th>review_title</th>\n",
       "      <th>review_date</th>\n",
       "      <th>review_star_ratings</th>\n",
       "      <th>review_sentiment</th>\n",
       "      <th>review_sentiment_score</th>\n",
       "    </tr>\n",
       "  </thead>\n",
       "  <tbody>\n",
       "    <tr>\n",
       "      <th>0</th>\n",
       "      <td>Poorly packaged, dirty and well used. Advertis...</td>\n",
       "      <td>Michael Girvan</td>\n",
       "      <td>Dirty &amp; Used</td>\n",
       "      <td>September 2022</td>\n",
       "      <td>1.0 out of 5 stars</td>\n",
       "      <td>NEGATIVE</td>\n",
       "      <td>0.998602</td>\n",
       "    </tr>\n",
       "    <tr>\n",
       "      <th>1</th>\n",
       "      <td>This Nintendo Switch really makes me so happy ...</td>\n",
       "      <td>sasybi</td>\n",
       "      <td>Best purchase I've ever made! makes me so happy</td>\n",
       "      <td>September 2022</td>\n",
       "      <td>5.0 out of 5 stars</td>\n",
       "      <td>POSITIVE</td>\n",
       "      <td>0.999116</td>\n",
       "    </tr>\n",
       "    <tr>\n",
       "      <th>2</th>\n",
       "      <td>It was well preserved like new!</td>\n",
       "      <td>Carlos</td>\n",
       "      <td>It’s so good!</td>\n",
       "      <td>September 2022</td>\n",
       "      <td>5.0 out of 5 stars</td>\n",
       "      <td>POSITIVE</td>\n",
       "      <td>0.999754</td>\n",
       "    </tr>\n",
       "    <tr>\n",
       "      <th>3</th>\n",
       "      <td>Amazing.</td>\n",
       "      <td>Lisa</td>\n",
       "      <td>Amazing</td>\n",
       "      <td>September 2022</td>\n",
       "      <td>5.0 out of 5 stars</td>\n",
       "      <td>POSITIVE</td>\n",
       "      <td>0.999869</td>\n",
       "    </tr>\n",
       "    <tr>\n",
       "      <th>4</th>\n",
       "      <td>Love the versatility between handheld and TV c...</td>\n",
       "      <td>Matt</td>\n",
       "      <td>Best that Nintendo have made!</td>\n",
       "      <td>September 2022</td>\n",
       "      <td>5.0 out of 5 stars</td>\n",
       "      <td>POSITIVE</td>\n",
       "      <td>0.999306</td>\n",
       "    </tr>\n",
       "    <tr>\n",
       "      <th>...</th>\n",
       "      <td>...</td>\n",
       "      <td>...</td>\n",
       "      <td>...</td>\n",
       "      <td>...</td>\n",
       "      <td>...</td>\n",
       "      <td>...</td>\n",
       "      <td>...</td>\n",
       "    </tr>\n",
       "    <tr>\n",
       "      <th>495</th>\n",
       "      <td>The children received it as a Christmas presen...</td>\n",
       "      <td>Tin</td>\n",
       "      <td>Great for children and adults</td>\n",
       "      <td>9 January 2022</td>\n",
       "      <td>5.0 out of 5 stars</td>\n",
       "      <td>POSITIVE</td>\n",
       "      <td>0.999272</td>\n",
       "    </tr>\n",
       "    <tr>\n",
       "      <th>496</th>\n",
       "      <td>He loved</td>\n",
       "      <td>Mark Edwards</td>\n",
       "      <td>5</td>\n",
       "      <td>6 January 2022</td>\n",
       "      <td>5.0 out of 5 stars</td>\n",
       "      <td>POSITIVE</td>\n",
       "      <td>0.999866</td>\n",
       "    </tr>\n",
       "    <tr>\n",
       "      <th>497</th>\n",
       "      <td>Not too bulky and a good selection of games</td>\n",
       "      <td>Alice</td>\n",
       "      <td>A great console</td>\n",
       "      <td>3 January 2022</td>\n",
       "      <td>5.0 out of 5 stars</td>\n",
       "      <td>POSITIVE</td>\n",
       "      <td>0.894595</td>\n",
       "    </tr>\n",
       "    <tr>\n",
       "      <th>498</th>\n",
       "      <td>Broke within two months.  The seller couldn’t ...</td>\n",
       "      <td>scratch</td>\n",
       "      <td>Faulty and unhelpful seller</td>\n",
       "      <td>30 December 2021</td>\n",
       "      <td>1.0 out of 5 stars</td>\n",
       "      <td>NEGATIVE</td>\n",
       "      <td>0.999006</td>\n",
       "    </tr>\n",
       "    <tr>\n",
       "      <th>499</th>\n",
       "      <td>Bought this Nintendo switch for my 4 year old ...</td>\n",
       "      <td>Amazon Customer</td>\n",
       "      <td>Best computer i have purchased</td>\n",
       "      <td>30 December 2021</td>\n",
       "      <td>5.0 out of 5 stars</td>\n",
       "      <td>POSITIVE</td>\n",
       "      <td>0.998933</td>\n",
       "    </tr>\n",
       "  </tbody>\n",
       "</table>\n",
       "<p>500 rows × 7 columns</p>\n",
       "</div>"
      ],
      "text/plain": [
       "                                           review_text    reviewer_name  \\\n",
       "0    Poorly packaged, dirty and well used. Advertis...   Michael Girvan   \n",
       "1    This Nintendo Switch really makes me so happy ...           sasybi   \n",
       "2                      It was well preserved like new!           Carlos   \n",
       "3                                             Amazing.             Lisa   \n",
       "4    Love the versatility between handheld and TV c...             Matt   \n",
       "..                                                 ...              ...   \n",
       "495  The children received it as a Christmas presen...              Tin   \n",
       "496                                           He loved     Mark Edwards   \n",
       "497        Not too bulky and a good selection of games            Alice   \n",
       "498  Broke within two months.  The seller couldn’t ...          scratch   \n",
       "499  Bought this Nintendo switch for my 4 year old ...  Amazon Customer   \n",
       "\n",
       "                                        review_title       review_date  \\\n",
       "0                                       Dirty & Used    September 2022   \n",
       "1    Best purchase I've ever made! makes me so happy    September 2022   \n",
       "2                                      It’s so good!    September 2022   \n",
       "3                                            Amazing    September 2022   \n",
       "4                      Best that Nintendo have made!    September 2022   \n",
       "..                                               ...               ...   \n",
       "495                    Great for children and adults    9 January 2022   \n",
       "496                                                5    6 January 2022   \n",
       "497                                  A great console    3 January 2022   \n",
       "498                      Faulty and unhelpful seller  30 December 2021   \n",
       "499                   Best computer i have purchased  30 December 2021   \n",
       "\n",
       "    review_star_ratings review_sentiment  review_sentiment_score  \n",
       "0    1.0 out of 5 stars         NEGATIVE                0.998602  \n",
       "1    5.0 out of 5 stars         POSITIVE                0.999116  \n",
       "2    5.0 out of 5 stars         POSITIVE                0.999754  \n",
       "3    5.0 out of 5 stars         POSITIVE                0.999869  \n",
       "4    5.0 out of 5 stars         POSITIVE                0.999306  \n",
       "..                  ...              ...                     ...  \n",
       "495  5.0 out of 5 stars         POSITIVE                0.999272  \n",
       "496  5.0 out of 5 stars         POSITIVE                0.999866  \n",
       "497  5.0 out of 5 stars         POSITIVE                0.894595  \n",
       "498  1.0 out of 5 stars         NEGATIVE                0.999006  \n",
       "499  5.0 out of 5 stars         POSITIVE                0.998933  \n",
       "\n",
       "[500 rows x 7 columns]"
      ]
     },
     "execution_count": 10,
     "metadata": {},
     "output_type": "execute_result"
    }
   ],
   "source": [
    "df['review_sentiment'] = df['review_text'].apply(lambda x: sentiment_pipeline(x[:513])[0]['label'])\n",
    "df['review_sentiment_score'] = df['review_text'].apply(lambda x: sentiment_pipeline(x[:513])[0]['score'])\n",
    "df"
   ]
  },
  {
   "cell_type": "code",
   "execution_count": 20,
   "metadata": {},
   "outputs": [],
   "source": [
    "df.to_csv('amazon-reviews-sentiment-analysis.csv', index=False)"
   ]
  }
 ],
 "metadata": {
  "kernelspec": {
   "display_name": "Python 3.10.6 ('bulkenv')",
   "language": "python",
   "name": "python3"
  },
  "language_info": {
   "codemirror_mode": {
    "name": "ipython",
    "version": 3
   },
   "file_extension": ".py",
   "mimetype": "text/x-python",
   "name": "python",
   "nbconvert_exporter": "python",
   "pygments_lexer": "ipython3",
   "version": "3.10.6"
  },
  "orig_nbformat": 4,
  "vscode": {
   "interpreter": {
    "hash": "cc5465cf5904b5ae53dbe7fef49c06f7e9de627182621c3de1ab98783b77d35d"
   }
  }
 },
 "nbformat": 4,
 "nbformat_minor": 2
}
